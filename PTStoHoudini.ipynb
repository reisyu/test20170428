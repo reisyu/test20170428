{
 "cells": [
  {
   "cell_type": "code",
   "execution_count": 1,
   "metadata": {},
   "outputs": [],
   "source": [
    "import pandas as pd\n",
    "import matplotlib.pyplot as plt"
   ]
  },
  {
   "cell_type": "markdown",
   "metadata": {},
   "source": [
    "# パラメータを指定"
   ]
  },
  {
   "cell_type": "code",
   "execution_count": 2,
   "metadata": {},
   "outputs": [],
   "source": [
    "VoxelSize = 250  # ボクセルの大きさ\n",
    "colRange = 256     # RGBカラーのレンジ　256だと1677万色、8だと512色\n",
    "inputFile = 'pts_test3.pts'        # 読み込むptsのパス\n",
    "outputFile = 'pts_outColFull.csv'  # アウトプットするcsvのパス"
   ]
  },
  {
   "cell_type": "markdown",
   "metadata": {},
   "source": [
    "# ptsデータを読み込む\n",
    "スペース区切り　ヘッダー無し　１行目をスキップする\n",
    "\n",
    "コラムに名前を付ける"
   ]
  },
  {
   "cell_type": "code",
   "execution_count": 3,
   "metadata": {},
   "outputs": [
    {
     "data": {
      "text/html": [
       "<div>\n",
       "<style>\n",
       "    .dataframe thead tr:only-child th {\n",
       "        text-align: right;\n",
       "    }\n",
       "\n",
       "    .dataframe thead th {\n",
       "        text-align: left;\n",
       "    }\n",
       "\n",
       "    .dataframe tbody tr th {\n",
       "        vertical-align: top;\n",
       "    }\n",
       "</style>\n",
       "<table border=\"1\" class=\"dataframe\">\n",
       "  <thead>\n",
       "    <tr style=\"text-align: right;\">\n",
       "      <th></th>\n",
       "      <th>X</th>\n",
       "      <th>Y</th>\n",
       "      <th>Z</th>\n",
       "      <th>S</th>\n",
       "      <th>R</th>\n",
       "      <th>G</th>\n",
       "      <th>B</th>\n",
       "    </tr>\n",
       "  </thead>\n",
       "  <tbody>\n",
       "    <tr>\n",
       "      <th>0</th>\n",
       "      <td>143197.33150</td>\n",
       "      <td>68236.90364</td>\n",
       "      <td>17692.48538</td>\n",
       "      <td>1582</td>\n",
       "      <td>239</td>\n",
       "      <td>238</td>\n",
       "      <td>252</td>\n",
       "    </tr>\n",
       "    <tr>\n",
       "      <th>1</th>\n",
       "      <td>142045.33736</td>\n",
       "      <td>69826.88802</td>\n",
       "      <td>17897.88674</td>\n",
       "      <td>1630</td>\n",
       "      <td>254</td>\n",
       "      <td>254</td>\n",
       "      <td>254</td>\n",
       "    </tr>\n",
       "    <tr>\n",
       "      <th>2</th>\n",
       "      <td>143461.08150</td>\n",
       "      <td>68003.04427</td>\n",
       "      <td>17404.67092</td>\n",
       "      <td>1598</td>\n",
       "      <td>236</td>\n",
       "      <td>235</td>\n",
       "      <td>253</td>\n",
       "    </tr>\n",
       "    <tr>\n",
       "      <th>3</th>\n",
       "      <td>142682.73970</td>\n",
       "      <td>68818.18489</td>\n",
       "      <td>18043.67483</td>\n",
       "      <td>1678</td>\n",
       "      <td>250</td>\n",
       "      <td>249</td>\n",
       "      <td>254</td>\n",
       "    </tr>\n",
       "    <tr>\n",
       "      <th>4</th>\n",
       "      <td>138158.53267</td>\n",
       "      <td>67316.71810</td>\n",
       "      <td>16203.82815</td>\n",
       "      <td>1196</td>\n",
       "      <td>255</td>\n",
       "      <td>255</td>\n",
       "      <td>255</td>\n",
       "    </tr>\n",
       "  </tbody>\n",
       "</table>\n",
       "</div>"
      ],
      "text/plain": [
       "              X            Y            Z     S    R    G    B\n",
       "0  143197.33150  68236.90364  17692.48538  1582  239  238  252\n",
       "1  142045.33736  69826.88802  17897.88674  1630  254  254  254\n",
       "2  143461.08150  68003.04427  17404.67092  1598  236  235  253\n",
       "3  142682.73970  68818.18489  18043.67483  1678  250  249  254\n",
       "4  138158.53267  67316.71810  16203.82815  1196  255  255  255"
      ]
     },
     "execution_count": 3,
     "metadata": {},
     "output_type": "execute_result"
    }
   ],
   "source": [
    "data = pd.read_csv(inputFile,  delim_whitespace=True, header=None, skiprows=1)\n",
    "data.rename(columns={0:\"X\", 1:\"Y\", 2:\"Z\", 3:\"S\", 4:\"R\", 5:\"G\", 6:\"B\"}, inplace=True)\n",
    "data.head()"
   ]
  },
  {
   "cell_type": "code",
   "execution_count": 4,
   "metadata": {},
   "outputs": [
    {
     "data": {
      "text/plain": [
       "X    float64\n",
       "Y    float64\n",
       "Z    float64\n",
       "S      int64\n",
       "R      int64\n",
       "G      int64\n",
       "B      int64\n",
       "dtype: object"
      ]
     },
     "execution_count": 4,
     "metadata": {},
     "output_type": "execute_result"
    }
   ],
   "source": [
    "data.dtypes"
   ]
  },
  {
   "cell_type": "code",
   "execution_count": 5,
   "metadata": {},
   "outputs": [
    {
     "data": {
      "text/plain": [
       "5384086"
      ]
     },
     "execution_count": 5,
     "metadata": {},
     "output_type": "execute_result"
    }
   ],
   "source": [
    "len(data)"
   ]
  },
  {
   "cell_type": "markdown",
   "metadata": {},
   "source": [
    "# ptsデータを加工する\n",
    "VoxelSizeに合わせてXYZ座標をラウンド\n",
    "\n",
    "RGBを0～255から0～1に変換\n",
    "\n",
    "XYZ座標をテキストとして連結してVoxelIDを作成"
   ]
  },
  {
   "cell_type": "code",
   "execution_count": 6,
   "metadata": {},
   "outputs": [
    {
     "data": {
      "text/html": [
       "<div>\n",
       "<style>\n",
       "    .dataframe thead tr:only-child th {\n",
       "        text-align: right;\n",
       "    }\n",
       "\n",
       "    .dataframe thead th {\n",
       "        text-align: left;\n",
       "    }\n",
       "\n",
       "    .dataframe tbody tr th {\n",
       "        vertical-align: top;\n",
       "    }\n",
       "</style>\n",
       "<table border=\"1\" class=\"dataframe\">\n",
       "  <thead>\n",
       "    <tr style=\"text-align: right;\">\n",
       "      <th></th>\n",
       "      <th>X</th>\n",
       "      <th>Y</th>\n",
       "      <th>Z</th>\n",
       "      <th>S</th>\n",
       "      <th>R</th>\n",
       "      <th>G</th>\n",
       "      <th>B</th>\n",
       "      <th>VoxelID</th>\n",
       "    </tr>\n",
       "  </thead>\n",
       "  <tbody>\n",
       "    <tr>\n",
       "      <th>5112019</th>\n",
       "      <td>41000.0</td>\n",
       "      <td>54750.0</td>\n",
       "      <td>250.0</td>\n",
       "      <td>-184</td>\n",
       "      <td>1.000000</td>\n",
       "      <td>1.000000</td>\n",
       "      <td>1.000000</td>\n",
       "      <td>164.0219.01.0</td>\n",
       "    </tr>\n",
       "    <tr>\n",
       "      <th>5120193</th>\n",
       "      <td>41000.0</td>\n",
       "      <td>55000.0</td>\n",
       "      <td>250.0</td>\n",
       "      <td>586</td>\n",
       "      <td>0.996094</td>\n",
       "      <td>0.996094</td>\n",
       "      <td>0.996094</td>\n",
       "      <td>164.0220.01.0</td>\n",
       "    </tr>\n",
       "    <tr>\n",
       "      <th>5120375</th>\n",
       "      <td>41000.0</td>\n",
       "      <td>55250.0</td>\n",
       "      <td>250.0</td>\n",
       "      <td>-168</td>\n",
       "      <td>1.000000</td>\n",
       "      <td>1.000000</td>\n",
       "      <td>1.000000</td>\n",
       "      <td>164.0221.01.0</td>\n",
       "    </tr>\n",
       "    <tr>\n",
       "      <th>5112041</th>\n",
       "      <td>41000.0</td>\n",
       "      <td>55500.0</td>\n",
       "      <td>250.0</td>\n",
       "      <td>458</td>\n",
       "      <td>1.000000</td>\n",
       "      <td>1.000000</td>\n",
       "      <td>1.000000</td>\n",
       "      <td>164.0222.01.0</td>\n",
       "    </tr>\n",
       "    <tr>\n",
       "      <th>5112086</th>\n",
       "      <td>41000.0</td>\n",
       "      <td>55500.0</td>\n",
       "      <td>250.0</td>\n",
       "      <td>217</td>\n",
       "      <td>1.000000</td>\n",
       "      <td>1.000000</td>\n",
       "      <td>1.000000</td>\n",
       "      <td>164.0222.01.0</td>\n",
       "    </tr>\n",
       "  </tbody>\n",
       "</table>\n",
       "</div>"
      ],
      "text/plain": [
       "               X        Y      Z    S         R         G         B  \\\n",
       "5112019  41000.0  54750.0  250.0 -184  1.000000  1.000000  1.000000   \n",
       "5120193  41000.0  55000.0  250.0  586  0.996094  0.996094  0.996094   \n",
       "5120375  41000.0  55250.0  250.0 -168  1.000000  1.000000  1.000000   \n",
       "5112041  41000.0  55500.0  250.0  458  1.000000  1.000000  1.000000   \n",
       "5112086  41000.0  55500.0  250.0  217  1.000000  1.000000  1.000000   \n",
       "\n",
       "               VoxelID  \n",
       "5112019  164.0219.01.0  \n",
       "5120193  164.0220.01.0  \n",
       "5120375  164.0221.01.0  \n",
       "5112041  164.0222.01.0  \n",
       "5112086  164.0222.01.0  "
      ]
     },
     "execution_count": 6,
     "metadata": {},
     "output_type": "execute_result"
    }
   ],
   "source": [
    "data.X //= VoxelSize\n",
    "data.Y //= VoxelSize\n",
    "data.Z //= VoxelSize\n",
    "\n",
    "data.R = round(data.R/255*colRange)/colRange\n",
    "data.G = round(data.G/255*colRange)/colRange\n",
    "data.B = round(data.B/255*colRange)/colRange\n",
    "\n",
    "data[\"VoxelID\"] = 0\n",
    "data.VoxelID = (data['X'].astype(str)+data['Y'].astype(str)+data['Z'].astype(str))\n",
    "data.sort_values(['X','Y','Z'], inplace=True)\n",
    "\n",
    "data.X *= VoxelSize\n",
    "data.Y *= VoxelSize\n",
    "data.Z *= VoxelSize\n",
    "\n",
    "data.head()"
   ]
  },
  {
   "cell_type": "markdown",
   "metadata": {},
   "source": [
    "# VoxelIDでグループ化"
   ]
  },
  {
   "cell_type": "code",
   "execution_count": 7,
   "metadata": {},
   "outputs": [
    {
     "data": {
      "text/plain": [
       "684130"
      ]
     },
     "execution_count": 7,
     "metadata": {},
     "output_type": "execute_result"
    }
   ],
   "source": [
    "grouped = data.groupby('VoxelID')\n",
    "len(grouped)"
   ]
  },
  {
   "cell_type": "code",
   "execution_count": 8,
   "metadata": {},
   "outputs": [
    {
     "data": {
      "image/png": "[encoded data removed]",
      "text/plain": [
       "<matplotlib.figure.Figure at 0x1a3bd8badd8>"
      ]
     },
     "metadata": {},
     "output_type": "display_data"
    }
   ],
   "source": [
    "count = grouped.size()\n",
    "plt.hist(count, bins=50)\n",
    "plt.show()"
   ]
  },
  {
   "cell_type": "code",
   "execution_count": 9,
   "metadata": {},
   "outputs": [
    {
     "data": {
      "text/html": [
       "<div>\n",
       "<style>\n",
       "    .dataframe thead tr:only-child th {\n",
       "        text-align: right;\n",
       "    }\n",
       "\n",
       "    .dataframe thead th {\n",
       "        text-align: left;\n",
       "    }\n",
       "\n",
       "    .dataframe tbody tr th {\n",
       "        vertical-align: top;\n",
       "    }\n",
       "</style>\n",
       "<table border=\"1\" class=\"dataframe\">\n",
       "  <thead>\n",
       "    <tr style=\"text-align: right;\">\n",
       "      <th></th>\n",
       "      <th>X</th>\n",
       "      <th>Y</th>\n",
       "      <th>Z</th>\n",
       "      <th>S</th>\n",
       "      <th>R</th>\n",
       "      <th>G</th>\n",
       "      <th>B</th>\n",
       "    </tr>\n",
       "    <tr>\n",
       "      <th>VoxelID</th>\n",
       "      <th></th>\n",
       "      <th></th>\n",
       "      <th></th>\n",
       "      <th></th>\n",
       "      <th></th>\n",
       "      <th></th>\n",
       "      <th></th>\n",
       "    </tr>\n",
       "  </thead>\n",
       "  <tbody>\n",
       "    <tr>\n",
       "      <th>164.0219.01.0</th>\n",
       "      <td>41000.0</td>\n",
       "      <td>54750.0</td>\n",
       "      <td>250.0</td>\n",
       "      <td>1</td>\n",
       "      <td>1.000000</td>\n",
       "      <td>1.000000</td>\n",
       "      <td>1.000000</td>\n",
       "    </tr>\n",
       "    <tr>\n",
       "      <th>164.0220.01.0</th>\n",
       "      <td>41000.0</td>\n",
       "      <td>55000.0</td>\n",
       "      <td>250.0</td>\n",
       "      <td>1</td>\n",
       "      <td>0.996094</td>\n",
       "      <td>0.996094</td>\n",
       "      <td>0.996094</td>\n",
       "    </tr>\n",
       "    <tr>\n",
       "      <th>164.0221.01.0</th>\n",
       "      <td>41000.0</td>\n",
       "      <td>55250.0</td>\n",
       "      <td>250.0</td>\n",
       "      <td>1</td>\n",
       "      <td>1.000000</td>\n",
       "      <td>1.000000</td>\n",
       "      <td>1.000000</td>\n",
       "    </tr>\n",
       "    <tr>\n",
       "      <th>164.0222.01.0</th>\n",
       "      <td>41000.0</td>\n",
       "      <td>55500.0</td>\n",
       "      <td>250.0</td>\n",
       "      <td>2</td>\n",
       "      <td>1.000000</td>\n",
       "      <td>1.000000</td>\n",
       "      <td>1.000000</td>\n",
       "    </tr>\n",
       "    <tr>\n",
       "      <th>164.0232.01.0</th>\n",
       "      <td>41000.0</td>\n",
       "      <td>58000.0</td>\n",
       "      <td>250.0</td>\n",
       "      <td>1</td>\n",
       "      <td>0.859375</td>\n",
       "      <td>0.878906</td>\n",
       "      <td>0.863281</td>\n",
       "    </tr>\n",
       "  </tbody>\n",
       "</table>\n",
       "</div>"
      ],
      "text/plain": [
       "                     X        Y      Z  S         R         G         B\n",
       "VoxelID                                                                \n",
       "164.0219.01.0  41000.0  54750.0  250.0  1  1.000000  1.000000  1.000000\n",
       "164.0220.01.0  41000.0  55000.0  250.0  1  0.996094  0.996094  0.996094\n",
       "164.0221.01.0  41000.0  55250.0  250.0  1  1.000000  1.000000  1.000000\n",
       "164.0222.01.0  41000.0  55500.0  250.0  2  1.000000  1.000000  1.000000\n",
       "164.0232.01.0  41000.0  58000.0  250.0  1  0.859375  0.878906  0.863281"
      ]
     },
     "execution_count": 9,
     "metadata": {},
     "output_type": "execute_result"
    }
   ],
   "source": [
    "df_out = grouped.min()\n",
    "df_out.S = count\n",
    "df_out.head()"
   ]
  },
  {
   "cell_type": "markdown",
   "metadata": {},
   "source": [
    "# csvデータをエクスポート"
   ]
  },
  {
   "cell_type": "code",
   "execution_count": 10,
   "metadata": {},
   "outputs": [],
   "source": [
    "df_out.to_csv(outputFile, index=False, header=False)"
   ]
  }
 ],
 "metadata": {
  "kernelspec": {
   "display_name": "Python 3",
   "language": "python",
   "name": "python3"
  },
  "language_info": {
   "codemirror_mode": {
    "name": "ipython",
    "version": 3
   },
   "file_extension": ".py",
   "mimetype": "text/x-python",
   "name": "python",
   "nbconvert_exporter": "python",
   "pygments_lexer": "ipython3",
   "version": "3.6.3"
  }
 },
 "nbformat": 4,
 "nbformat_minor": 2
}
